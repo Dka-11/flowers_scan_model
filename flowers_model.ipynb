{
 "cells": [
  {
   "cell_type": "code",
   "execution_count": 1,
   "metadata": {},
   "outputs": [],
   "source": [
    "import os\n",
    "import shutil\n",
    "import numpy as np\n",
    "import tensorflow as tf\n",
    "import matplotlib.pyplot as plt\n",
    "from sklearn.model_selection import train_test_split, KFold\n",
    "from sklearn.metrics import confusion_matrix, classification_report\n",
    "from tensorflow.keras.optimizers import RMSprop, Adam, SGD\n",
    "from tensorflow.keras.preprocessing.image import ImageDataGenerator\n",
    "from tensorflow.keras.callbacks import EarlyStopping\n",
    "from datetime import datetime\n",
    "from PIL import Image"
   ]
  },
  {
   "cell_type": "markdown",
   "metadata": {},
   "source": [
    "### Read Directory"
   ]
  },
  {
   "cell_type": "code",
   "execution_count": 2,
   "metadata": {},
   "outputs": [
    {
     "name": "stdout",
     "output_type": "stream",
     "text": [
      "Content of Base Directory : ['Anyelir', 'Aster Cina', 'Gerbera', 'Lily Peruvian', 'Lisianthus', 'Matahari', 'Mulut Naga'] \n"
     ]
    }
   ],
   "source": [
    "# Variabel Direktori\n",
    "base_dir = \"Dataset/Bunga\"\n",
    "\n",
    "# Membaca Direktori\n",
    "print(f\"Content of Base Directory : {os.listdir(base_dir)} \" )"
   ]
  },
  {
   "cell_type": "markdown",
   "metadata": {},
   "source": [
    "### Access Dataset"
   ]
  },
  {
   "cell_type": "code",
   "execution_count": 3,
   "metadata": {},
   "outputs": [
    {
     "name": "stdout",
     "output_type": "stream",
     "text": [
      "Total Gambar Bunga Anyelir :  50\n",
      "Total Gambar Bunga Aster Cina :  50\n",
      "Total Gambar Bunga Gerbera :  50\n",
      "Total Gambar Bunga Lily Peruvian :  50\n",
      "Total Gambar Bunga Lisianthus :  50\n",
      "Total Gambar Bunga Matahari :  50\n",
      "Total Gambar Bunga Mulut Naga :  50\n"
     ]
    }
   ],
   "source": [
    "# List bunga\n",
    "flowers_list = ['Anyelir','Aster Cina', 'Gerbera', 'Lily Peruvian', 'Lisianthus', 'Matahari', 'Mulut Naga']\n",
    "\n",
    "# Melakukan akses dataset pada tiap kelas\n",
    "for flower in flowers_list:\n",
    "    print(f\"Total Gambar Bunga {flower} : \", len(os.listdir(f'{base_dir}/{flower}')))"
   ]
  },
  {
   "cell_type": "markdown",
   "metadata": {},
   "source": [
    "### Resize Images to 224x224"
   ]
  },
  {
   "cell_type": "code",
   "execution_count": 4,
   "metadata": {},
   "outputs": [
    {
     "name": "stdout",
     "output_type": "stream",
     "text": [
      "Resize 224 x 224 piksel selesai\n"
     ]
    }
   ],
   "source": [
    "input_dir = \"Dataset/Bunga\"\n",
    "output_dir = \"./resized_flowers_dataset\"\n",
    "target_size = (224,224)\n",
    "\n",
    "def resize_images(input_dir, output_dir, target_size):\n",
    "    # Membuat jalur direktori dengan setiap kelas pada bunga\n",
    "    for flowers_type in flowers_list:\n",
    "        input_dataset_dir = os.path.join(input_dir, flowers_type)\n",
    "        output_dataset_dir = os.path.join(output_dir, flowers_type)\n",
    "        \n",
    "        if not os.path.exists(output_dataset_dir):\n",
    "            os.makedirs(output_dataset_dir)\n",
    "            \n",
    "        # Membuat jalur direktori dengan list direktori pada tiap file di setiap kelas pada bunga\n",
    "        for flowers_filename in os.listdir(input_dataset_dir):\n",
    "            input_images_path = os.path.join(input_dataset_dir, flowers_filename)\n",
    "            output_images_path = os.path.join(output_dataset_dir, flowers_filename)\n",
    "            \n",
    "            img = Image.open(input_images_path)\n",
    "            resized_image = img.resize(target_size)\n",
    "            resized_image.save(output_images_path)\n",
    "            \n",
    "resize_images(input_dir, output_dir, target_size)\n",
    "\n",
    "print(\"Resize 224 x 224 piksel selesai\")"
   ]
  },
  {
   "cell_type": "markdown",
   "metadata": {},
   "source": [
    "### Access dataset after resize"
   ]
  },
  {
   "cell_type": "code",
   "execution_count": 5,
   "metadata": {},
   "outputs": [
    {
     "name": "stdout",
     "output_type": "stream",
     "text": [
      "Total Gambar Bunga Anyelir :  50\n",
      "Total Gambar Bunga Aster Cina :  50\n",
      "Total Gambar Bunga Gerbera :  50\n",
      "Total Gambar Bunga Lily Peruvian :  50\n",
      "Total Gambar Bunga Lisianthus :  50\n",
      "Total Gambar Bunga Matahari :  50\n",
      "Total Gambar Bunga Mulut Naga :  50\n"
     ]
    }
   ],
   "source": [
    "# Melakukan akses dataset pada tiap kelas\n",
    "for flower in flowers_list:\n",
    "    print(f\"Total Gambar Bunga {flower} : \", len(os.listdir(f'{output_dir}/{flower}')))"
   ]
  },
  {
   "cell_type": "markdown",
   "metadata": {},
   "source": [
    "### Create dir train & val"
   ]
  },
  {
   "cell_type": "code",
   "execution_count": 6,
   "metadata": {},
   "outputs": [],
   "source": [
    "root_dir = 'tmp/flowers'\n",
    "\n",
    "if os.path.exists(root_dir):\n",
    "    # Jika terdapat direktori --> mengkosongkan direktori untuk mencegah FileExistsError\n",
    "    shutil.rmtree(root_dir)\n",
    "\n",
    "# Membuat direktori training dan validation\n",
    "def create_train_val_dirs(root_path):\n",
    "    for flowers in flowers_list:\n",
    "        os.makedirs(os.path.join(root_dir, 'training', flowers))\n",
    "        os.makedirs(os.path.join(root_dir, 'validation', flowers))\n",
    "            \n",
    "try:\n",
    "    create_train_val_dirs(root_path=root_dir)\n",
    "except FileExistsError:\n",
    "    print(\"You should not be seeing this since the upper directory is removed beforehand\")"
   ]
  },
  {
   "cell_type": "code",
   "execution_count": 7,
   "metadata": {},
   "outputs": [
    {
     "name": "stdout",
     "output_type": "stream",
     "text": [
      "tmp/flowers\\training\n",
      "tmp/flowers\\validation\n",
      "tmp/flowers\\training\\Anyelir\n",
      "tmp/flowers\\training\\Aster Cina\n",
      "tmp/flowers\\training\\Gerbera\n",
      "tmp/flowers\\training\\Lily Peruvian\n",
      "tmp/flowers\\training\\Lisianthus\n",
      "tmp/flowers\\training\\Matahari\n",
      "tmp/flowers\\training\\Mulut Naga\n",
      "tmp/flowers\\validation\\Anyelir\n",
      "tmp/flowers\\validation\\Aster Cina\n",
      "tmp/flowers\\validation\\Gerbera\n",
      "tmp/flowers\\validation\\Lily Peruvian\n",
      "tmp/flowers\\validation\\Lisianthus\n",
      "tmp/flowers\\validation\\Matahari\n",
      "tmp/flowers\\validation\\Mulut Naga\n"
     ]
    }
   ],
   "source": [
    "for rootdir, dirs, _ in os.walk(root_dir):\n",
    "    for subdir in dirs:\n",
    "        print(os.path.join(rootdir, subdir))"
   ]
  },
  {
   "cell_type": "markdown",
   "metadata": {},
   "source": [
    "### Split Data"
   ]
  },
  {
   "cell_type": "code",
   "execution_count": 8,
   "metadata": {},
   "outputs": [
    {
     "name": "stdout",
     "output_type": "stream",
     "text": [
      "Data Split Completed.\n"
     ]
    }
   ],
   "source": [
    "def remove_files_in_dir(directory):\n",
    "    # Jika Terdapat file, maka file akan dihapus terlebih dahulu\n",
    "    if len(os.listdir(directory)) > 0:\n",
    "        for file in os.scandir(directory):\n",
    "            os.remove(file.path)\n",
    "\n",
    "def split_data(source_dir, train_dir, val_dir):\n",
    "    # Memastikan direktori bersih sebelum dilakukannya copas file yang baru.\n",
    "    remove_files_in_dir(train_dir)\n",
    "    remove_files_in_dir(val_dir)\n",
    "    \n",
    "    # Memfilter file dengan size harus > 0 byte\n",
    "    files_list = os.listdir(source_dir)\n",
    "    filtered_images = [\n",
    "        file for file in files_list if os.path.getsize(\n",
    "            os.path.join(source_dir, file)) > 0\n",
    "    ]\n",
    "    \n",
    "    # Definisi split size 80 training, 20 validation\n",
    "    split_size = 0.8\n",
    "\n",
    "    # Data Split\n",
    "    train_files, validation_files = train_test_split(\n",
    "        filtered_images,\n",
    "        train_size=split_size,\n",
    "        random_state=42\n",
    "    )\n",
    "    \n",
    "    # Copy Paste File\n",
    "    for files, directory in [(train_files, train_dir), (validation_files, val_dir)]:\n",
    "        for file in files:\n",
    "            src = os.path.join(source_dir, file)\n",
    "            dest = os.path.join(directory, file)\n",
    "            shutil.copyfile(src, dest)\n",
    "\n",
    "# List Path\n",
    "flower_categories = [\"Anyelir\", \"Aster Cina\", \"Gerbera\", \"Lily Peruvian\", \"Lisianthus\", \"Matahari\", \"Mulut Naga\"]\n",
    "\n",
    "# Base paths\n",
    "source_base_dir = \"resized_flowers_dataset\"\n",
    "train_base_dir = \"tmp/flowers/training\"\n",
    "val_base_dir = \"tmp/flowers/validation\"\n",
    "\n",
    "# Proses Split Data terjadi di sini\n",
    "for category in flower_categories:\n",
    "    source_dir = os.path.join(source_base_dir, category)\n",
    "    train_dir = os.path.join(train_base_dir, category)\n",
    "    val_dir = os.path.join(val_base_dir, category)\n",
    "    split_data(source_dir, train_dir, val_dir)\n",
    "    \n",
    "print(\"Data Split Completed.\")"
   ]
  },
  {
   "cell_type": "code",
   "execution_count": null,
   "metadata": {},
   "outputs": [],
   "source": [
    "# Path ke folder asal gambar\n",
    "source_folder = \"resized_flowers_dataset\"\n",
    "\n",
    "# Path ke folder tujuan untuk setiap label\n",
    "destination_folder = '/content/train_fix'\n",
    "\n",
    "# Membaca DataFrame\n",
    "dataset_df = pd.read_csv(\"/content/train_data.csv\")\n",
    "\n",
    "# Iterasi melalui setiap baris dalam DataFrame\n",
    "for index, row in dataset_df.iterrows():\n",
    "    # Mendapatkan nama file gambar dan label\n",
    "    image_filename = row['Image']\n",
    "    label = row['Label']\n",
    "\n",
    "    # Membuat path lengkap untuk file gambar\n",
    "    source_path = os.path.join(source_folder, image_filename)\n",
    "\n",
    "    # Membuat folder tujuan jika belum ada\n",
    "    destination_label_folder = os.path.join(destination_folder, label)\n",
    "    os.makedirs(destination_label_folder, exist_ok=True)\n",
    "\n",
    "    # Membuat path lengkap untuk tujuan\n",
    "    destination_path = os.path.join(destination_label_folder, image_filename)\n",
    "\n",
    "    # Memindahkan file gambar ke folder tujuan\n",
    "    shutil.move(source_path, destination_path)\n",
    "\n",
    "print(\"Proses pemindahan selesai.\")"
   ]
  },
  {
   "cell_type": "markdown",
   "metadata": {},
   "source": [
    "### Cek jumlah Data"
   ]
  },
  {
   "cell_type": "code",
   "execution_count": 10,
   "metadata": {},
   "outputs": [
    {
     "name": "stdout",
     "output_type": "stream",
     "text": [
      "Gambar Original Bunga Anyelir sebanyak : 50 gambar\n",
      "Gambar Original Bunga Aster Cina sebanyak : 50 gambar\n",
      "Gambar Original Bunga Gerbera sebanyak : 50 gambar\n",
      "Gambar Original Bunga Lily Peruvian sebanyak : 50 gambar\n",
      "Gambar Original Bunga Lisianthus sebanyak : 50 gambar\n",
      "Gambar Original Bunga Matahari sebanyak : 50 gambar\n",
      "Gambar Original Bunga Mulut Naga sebanyak : 50 gambar\n",
      "\n",
      "Training Images : \n",
      "Gambar Bunga Anyelir : 40 gambar untuk training\n",
      "Gambar Bunga Aster Cina : 40 gambar untuk training\n",
      "Gambar Bunga Gerbera : 40 gambar untuk training\n",
      "Gambar Bunga Lily Peruvian : 40 gambar untuk training\n",
      "Gambar Bunga Lisianthus : 40 gambar untuk training\n",
      "Gambar Bunga Matahari : 40 gambar untuk training\n",
      "Gambar Bunga Mulut Naga : 40 gambar untuk training\n",
      "\n",
      "Validation Images : \n",
      "Gambar Bunga Anyelir : 10 gambar untuk validasi\n",
      "Gambar Bunga Aster Cina : 10 gambar untuk validasi\n",
      "Gambar Bunga Gerbera : 10 gambar untuk validasi\n",
      "Gambar Bunga Lily Peruvian : 10 gambar untuk validasi\n",
      "Gambar Bunga Lisianthus : 10 gambar untuk validasi\n",
      "Gambar Bunga Matahari : 10 gambar untuk validasi\n",
      "Gambar Bunga Mulut Naga : 10 gambar untuk validasi\n"
     ]
    }
   ],
   "source": [
    "for source_dir, _, _ in source_dirs:\n",
    "    flowers_path = os.path.normpath(source_dir)\n",
    "    # os.path.normpath --> menormalisasi path contoh : '/path\\\\Cats' --> '\\\\path\\\\Cats'\n",
    "    flowers_type = os.path.basename(flowers_path)\n",
    "    # os.path.basename --> Mendapatkan nama terakhir dari path direktori, Contoh: '/path\\\\Cats' --> Cats\n",
    "    print(f\"Gambar Original Bunga {flowers_type} sebanyak : {len(os.listdir(source_dir))} gambar\")\n",
    "\n",
    "print(\"\\nTraining Images : \")\n",
    "for _, train_dir, _ in source_dirs:\n",
    "    flowers_type = os.path.basename(os.path.normpath(train_dir))\n",
    "    print(f\"Gambar Bunga {flowers_type} : {len(os.listdir(train_dir))} gambar untuk training\")\n",
    "\n",
    "print(\"\\nValidation Images : \")\n",
    "for _, _, val_dir in source_dirs:\n",
    "    flowers_type = os.path.basename(os.path.normpath(val_dir))\n",
    "    print(f\"Gambar Bunga {flowers_type} : {len(os.listdir(val_dir))} gambar untuk validasi\")"
   ]
  },
  {
   "cell_type": "code",
   "execution_count": 11,
   "metadata": {},
   "outputs": [],
   "source": [
    "# Definisi Path\n",
    "TRAINING_DIR = 'tmp/flowers/training'\n",
    "VALIDATION_DIR = 'tmp/flowers/validation'"
   ]
  },
  {
   "cell_type": "code",
   "execution_count": 12,
   "metadata": {},
   "outputs": [],
   "source": [
    "train_datagen = ImageDataGenerator(\n",
    "    rescale=1./255,\n",
    "    rotation_range=30,\n",
    "    width_shift_range=0.2,\n",
    "    height_shift_range=0.2,\n",
    "    horizontal_flip=True,\n",
    "    zoom_range=0.2,\n",
    "    shear_range=0.2,\n",
    "    fill_mode='nearest'\n",
    ")\n",
    "\n",
    "val_datagen = ImageDataGenerator(rescale=1./255)"
   ]
  },
  {
   "cell_type": "code",
   "execution_count": 13,
   "metadata": {},
   "outputs": [
    {
     "name": "stdout",
     "output_type": "stream",
     "text": [
      "Found 280 images belonging to 7 classes.\n",
      "Found 70 images belonging to 7 classes.\n"
     ]
    }
   ],
   "source": [
    "train_generator = train_datagen.flow_from_directory(\n",
    "    TRAINING_DIR,\n",
    "    target_size=(224, 224),\n",
    "    batch_size=32,\n",
    "    class_mode='categorical',\n",
    "    shuffle=True\n",
    ")\n",
    "\n",
    "val_generator = val_datagen.flow_from_directory(\n",
    "    VALIDATION_DIR,\n",
    "    target_size=(224, 224),\n",
    "    batch_size=32,\n",
    "    class_mode='categorical',\n",
    "    shuffle=False\n",
    ")"
   ]
  },
  {
   "cell_type": "markdown",
   "metadata": {},
   "source": [
    "## Callback Function"
   ]
  },
  {
   "cell_type": "code",
   "execution_count": 14,
   "metadata": {},
   "outputs": [],
   "source": [
    "# class myCallback(tf.keras.callbacks.Callback):\n",
    "#     def on_epoch_end(self, epoch, logs={}):\n",
    "#         if(logs.get('val_accuracy')>0.95):\n",
    "#             print(f\"\\nReached 95% accuracy at {1+epoch} so cancelling training!\")\n",
    "#             self.model.stop_training = True\n",
    "\n",
    "early_stopping_cb = EarlyStopping(monitor=\"val_accuracy\",patience=5, verbose=1, restore_best_weights=True)"
   ]
  },
  {
   "cell_type": "markdown",
   "metadata": {},
   "source": [
    "## Create Base Model from MobileNetV2"
   ]
  },
  {
   "cell_type": "code",
   "execution_count": 15,
   "metadata": {},
   "outputs": [],
   "source": [
    "base_model = tf.keras.applications.MobileNetV2(\n",
    "    input_shape = (224,224, 3),\n",
    "    include_top=False,\n",
    "    weights='imagenet'\n",
    ")\n",
    "\n",
    "base_model.trainable = False"
   ]
  },
  {
   "cell_type": "code",
   "execution_count": 16,
   "metadata": {},
   "outputs": [
    {
     "name": "stdout",
     "output_type": "stream",
     "text": [
      "Total Parameters pada model : 2,257,984\n"
     ]
    }
   ],
   "source": [
    "total_params = base_model.count_params()\n",
    "print(f\"Total Parameters pada model : {total_params:,}\")"
   ]
  },
  {
   "cell_type": "code",
   "execution_count": 17,
   "metadata": {},
   "outputs": [
    {
     "name": "stdout",
     "output_type": "stream",
     "text": [
      "Model: \"sequential\"\n",
      "_________________________________________________________________\n",
      " Layer (type)                Output Shape              Param #   \n",
      "=================================================================\n",
      " mobilenetv2_1.00_224 (Func  (None, 7, 7, 1280)        2257984   \n",
      " tional)                                                         \n",
      "                                                                 \n",
      " global_average_pooling2d (  (None, 1280)              0         \n",
      " GlobalAveragePooling2D)                                         \n",
      "                                                                 \n",
      " dense (Dense)               (None, 7)                 8967      \n",
      "                                                                 \n",
      "=================================================================\n",
      "Total params: 2266951 (8.65 MB)\n",
      "Trainable params: 8967 (35.03 KB)\n",
      "Non-trainable params: 2257984 (8.61 MB)\n",
      "_________________________________________________________________\n"
     ]
    }
   ],
   "source": [
    "final_model = tf.keras.models.Sequential([\n",
    "    base_model,\n",
    "    tf.keras.layers.GlobalAveragePooling2D(),\n",
    "    tf.keras.layers.Dense(7, activation='softmax')\n",
    "])\n",
    "\n",
    "final_model.summary()"
   ]
  },
  {
   "cell_type": "code",
   "execution_count": 18,
   "metadata": {},
   "outputs": [
    {
     "name": "stdout",
     "output_type": "stream",
     "text": [
      "Epoch 1/100\n",
      "9/9 - 7s - loss: 1.8723 - accuracy: 0.2929 - val_loss: 1.3333 - val_accuracy: 0.6000 - 7s/epoch - 765ms/step\n",
      "Epoch 2/100\n",
      "9/9 - 4s - loss: 1.1733 - accuracy: 0.6071 - val_loss: 0.8737 - val_accuracy: 0.7571 - 4s/epoch - 400ms/step\n",
      "Epoch 3/100\n",
      "9/9 - 4s - loss: 0.7592 - accuracy: 0.8286 - val_loss: 0.5890 - val_accuracy: 0.9000 - 4s/epoch - 404ms/step\n",
      "Epoch 4/100\n",
      "9/9 - 4s - loss: 0.5463 - accuracy: 0.8821 - val_loss: 0.4249 - val_accuracy: 0.9286 - 4s/epoch - 403ms/step\n",
      "Epoch 5/100\n",
      "9/9 - 4s - loss: 0.4151 - accuracy: 0.9321 - val_loss: 0.3500 - val_accuracy: 0.9429 - 4s/epoch - 407ms/step\n",
      "Epoch 6/100\n",
      "9/9 - 4s - loss: 0.3213 - accuracy: 0.9571 - val_loss: 0.2917 - val_accuracy: 0.9429 - 4s/epoch - 401ms/step\n",
      "Epoch 7/100\n",
      "9/9 - 4s - loss: 0.2642 - accuracy: 0.9536 - val_loss: 0.2492 - val_accuracy: 0.9429 - 4s/epoch - 446ms/step\n",
      "Epoch 8/100\n",
      "9/9 - 4s - loss: 0.2552 - accuracy: 0.9607 - val_loss: 0.2226 - val_accuracy: 0.9571 - 4s/epoch - 456ms/step\n",
      "Epoch 9/100\n",
      "9/9 - 4s - loss: 0.2204 - accuracy: 0.9679 - val_loss: 0.2038 - val_accuracy: 0.9571 - 4s/epoch - 438ms/step\n",
      "Epoch 10/100\n",
      "9/9 - 4s - loss: 0.1893 - accuracy: 0.9750 - val_loss: 0.1880 - val_accuracy: 0.9571 - 4s/epoch - 418ms/step\n",
      "Epoch 11/100\n",
      "9/9 - 4s - loss: 0.1793 - accuracy: 0.9750 - val_loss: 0.1745 - val_accuracy: 0.9571 - 4s/epoch - 421ms/step\n",
      "Epoch 12/100\n",
      "9/9 - 4s - loss: 0.1660 - accuracy: 0.9679 - val_loss: 0.1597 - val_accuracy: 0.9571 - 4s/epoch - 428ms/step\n",
      "Epoch 13/100\n",
      "9/9 - 4s - loss: 0.1594 - accuracy: 0.9750 - val_loss: 0.1469 - val_accuracy: 0.9857 - 4s/epoch - 428ms/step\n",
      "Epoch 14/100\n",
      "9/9 - 4s - loss: 0.1243 - accuracy: 0.9857 - val_loss: 0.1417 - val_accuracy: 0.9857 - 4s/epoch - 424ms/step\n",
      "Epoch 15/100\n",
      "9/9 - 4s - loss: 0.1298 - accuracy: 0.9857 - val_loss: 0.1383 - val_accuracy: 0.9714 - 4s/epoch - 429ms/step\n",
      "Epoch 16/100\n",
      "9/9 - 4s - loss: 0.1072 - accuracy: 0.9857 - val_loss: 0.1356 - val_accuracy: 0.9714 - 4s/epoch - 436ms/step\n",
      "Epoch 17/100\n",
      "9/9 - 4s - loss: 0.1085 - accuracy: 0.9929 - val_loss: 0.1355 - val_accuracy: 0.9714 - 4s/epoch - 447ms/step\n",
      "Epoch 18/100\n",
      "Restoring model weights from the end of the best epoch: 13.\n",
      "9/9 - 4s - loss: 0.1114 - accuracy: 0.9929 - val_loss: 0.1252 - val_accuracy: 0.9714 - 4s/epoch - 438ms/step\n",
      "Epoch 18: early stopping\n"
     ]
    }
   ],
   "source": [
    "final_model.compile(\n",
    "    loss= 'categorical_crossentropy',\n",
    "    optimizer= Adam(),\n",
    "    metrics= ['accuracy']\n",
    ")\n",
    "\n",
    "history_model = final_model.fit(\n",
    "    train_generator,\n",
    "    validation_data = val_generator,\n",
    "    epochs = 100,\n",
    "    verbose = 2,\n",
    "    callbacks=early_stopping_cb\n",
    ")"
   ]
  },
  {
   "cell_type": "code",
   "execution_count": 1,
   "metadata": {},
   "outputs": [
    {
     "ename": "NameError",
     "evalue": "name 'grid_search' is not defined",
     "output_type": "error",
     "traceback": [
      "\u001b[1;31m---------------------------------------------------------------------------\u001b[0m",
      "\u001b[1;31mNameError\u001b[0m                                 Traceback (most recent call last)",
      "Cell \u001b[1;32mIn[1], line 6\u001b[0m\n\u001b[0;32m      3\u001b[0m \u001b[38;5;28;01mimport\u001b[39;00m \u001b[38;5;21;01mmatplotlib\u001b[39;00m\u001b[38;5;21;01m.\u001b[39;00m\u001b[38;5;21;01mpyplot\u001b[39;00m \u001b[38;5;28;01mas\u001b[39;00m \u001b[38;5;21;01mplt\u001b[39;00m\n\u001b[0;32m      5\u001b[0m \u001b[38;5;66;03m# Convert the cv_results_ to a DataFrame\u001b[39;00m\n\u001b[1;32m----> 6\u001b[0m results_df \u001b[38;5;241m=\u001b[39m pd\u001b[38;5;241m.\u001b[39mDataFrame(\u001b[43mgrid_search\u001b[49m\u001b[38;5;241m.\u001b[39mcv_results_)\n\u001b[0;32m      8\u001b[0m \u001b[38;5;66;03m# Display the first few rows to understand the structure\u001b[39;00m\n\u001b[0;32m      9\u001b[0m \u001b[38;5;28mprint\u001b[39m(results_df\u001b[38;5;241m.\u001b[39mhead())\n",
      "\u001b[1;31mNameError\u001b[0m: name 'grid_search' is not defined"
     ]
    }
   ],
   "source": [
    "train_acc = history_model.history['accuracy']\n",
    "val_acc  = history_model.history['val_accuracy']\n",
    "train_loss = history_model.history['loss']\n",
    "val_loss  = history_model.history['val_loss']\n",
    "\n",
    "plt.figure(figsize=(10,5))\n",
    "plt.plot(train_acc, label='Train Accuracy')\n",
    "plt.plot(val_acc, label='Validation Accuracy')\n",
    "plt.title('Train and Validation Accuracy')\n",
    "plt.xlabel('Epoch')\n",
    "plt.ylabel('Accuracy')\n",
    "plt.legend()\n",
    "plt.show()\n",
    "\n",
    "plt.figure(figsize=(10,5))\n",
    "plt.plot(train_loss, label='Train Loss')\n",
    "plt.plot(val_loss, label='Validation Loss')\n",
    "plt.title('Loss and Validation Loss')\n",
    "plt.xlabel('Epoch')\n",
    "plt.ylabel('Loss')\n",
    "plt.legend()\n",
    "plt.show()"
   ]
  },
  {
   "cell_type": "markdown",
   "metadata": {},
   "source": [
    "### Save Model H5 extension"
   ]
  },
  {
   "cell_type": "code",
   "execution_count": 20,
   "metadata": {},
   "outputs": [
    {
     "name": "stderr",
     "output_type": "stream",
     "text": [
      "c:\\Users\\Akazh\\AppData\\Local\\Programs\\Python\\Python311\\Lib\\site-packages\\keras\\src\\engine\\training.py:3079: UserWarning: You are saving your model as an HDF5 file via `model.save()`. This file format is considered legacy. We recommend using instead the native Keras format, e.g. `model.save('my_model.keras')`.\n",
      "  saving_api.save_model(\n"
     ]
    }
   ],
   "source": [
    "now = datetime.now()\n",
    "\n",
    "model_name = 'flowers_{}{}_{}{}.h5'.format(now.month, now.day, now.hour, now.minute)\n",
    "\n",
    "final_model.save(model_name)"
   ]
  },
  {
   "cell_type": "markdown",
   "metadata": {},
   "source": [
    "### Evaluation Valid Dataset"
   ]
  },
  {
   "cell_type": "code",
   "execution_count": 21,
   "metadata": {},
   "outputs": [
    {
     "name": "stdout",
     "output_type": "stream",
     "text": [
      "3/3 [==============================] - 1s 198ms/step - loss: 0.1469 - accuracy: 0.9857\n",
      "Valid Loss :  0.14693379402160645\n",
      "Valid Accuracy :  0.9857142567634583\n"
     ]
    }
   ],
   "source": [
    "evaluation_results = final_model.evaluate(val_generator)\n",
    "\n",
    "print(\"Valid Loss : \", evaluation_results[0])\n",
    "print(\"Valid Accuracy : \", evaluation_results[1])"
   ]
  },
  {
   "cell_type": "markdown",
   "metadata": {},
   "source": [
    "# Confusion Matrix"
   ]
  },
  {
   "cell_type": "code",
   "execution_count": 22,
   "metadata": {},
   "outputs": [
    {
     "name": "stdout",
     "output_type": "stream",
     "text": [
      "3/3 [==============================] - 1s 163ms/step\n",
      "Confusion Matrix MobileNetV2 : \n",
      "[[10  0  0  0  0  0  0]\n",
      " [ 0 10  0  0  0  0  0]\n",
      " [ 0  0 10  0  0  0  0]\n",
      " [ 0  0  0 10  0  0  0]\n",
      " [ 0  1  0  0  9  0  0]\n",
      " [ 0  0  0  0  0 10  0]\n",
      " [ 0  0  0  0  0  0 10]]\n",
      "\n",
      " Classification Report : \n",
      "               precision    recall  f1-score   support\n",
      "\n",
      "      Anyelir       1.00      1.00      1.00        10\n",
      "   Aster Cina       0.91      1.00      0.95        10\n",
      "      Gerbera       1.00      1.00      1.00        10\n",
      "Lily Peruvian       1.00      1.00      1.00        10\n",
      "   Lisianthus       1.00      0.90      0.95        10\n",
      "     Matahari       1.00      1.00      1.00        10\n",
      "   Mulut Naga       1.00      1.00      1.00        10\n",
      "\n",
      "     accuracy                           0.99        70\n",
      "    macro avg       0.99      0.99      0.99        70\n",
      " weighted avg       0.99      0.99      0.99        70\n",
      "\n"
     ]
    }
   ],
   "source": [
    "predictions = final_model.predict(val_generator)\n",
    "classes = os.listdir(VALIDATION_DIR)\n",
    "\n",
    "true_labels = val_generator.classes\n",
    "\n",
    "predicted_labels = np.argmax(predictions, axis=1)\n",
    "\n",
    "conf_matrix = confusion_matrix(true_labels, predicted_labels)\n",
    "\n",
    "print(\"Confusion Matrix MobileNetV2 : \")\n",
    "print(conf_matrix)\n",
    "\n",
    "print(\"\\n Classification Report : \")\n",
    "print(classification_report(true_labels, predicted_labels, target_names=classes))"
   ]
  },
  {
   "cell_type": "code",
   "execution_count": 23,
   "metadata": {},
   "outputs": [
    {
     "data": {
      "image/png": "[encoded data removed]",
      "text/plain": [
       "<Figure size 640x480 with 2 Axes>"
      ]
     },
     "metadata": {},
     "output_type": "display_data"
    }
   ],
   "source": [
    "def plot_confusion_matrix(cm, classes, title='Confusion Matrix Validation Dataset', cmap=plt.cm.Blues):\n",
    "    plt.imshow(cm, interpolation='nearest', cmap=cmap)\n",
    "    plt.title(title)\n",
    "    plt.colorbar()\n",
    "\n",
    "    tick_marks = np.arange(len(classes))\n",
    "    plt.xticks(tick_marks, classes, rotation=45)\n",
    "    plt.yticks(tick_marks, classes)\n",
    "\n",
    "    plt.xlabel('Predicted Label')\n",
    "    plt.ylabel('True Label')\n",
    "\n",
    "    for i in range(len(classes)):\n",
    "        for j in range(len(classes)):\n",
    "            plt.text(j, i, str(cm[i, j]), ha='center', va='center', color='red')  # Display the numerical value in each cell\n",
    "\n",
    "    plt.show()\n",
    "\n",
    "# Display confusion matrix with numerical values\n",
    "plot_confusion_matrix(conf_matrix, classes)"
   ]
  }
 ],
 "metadata": {
  "kernelspec": {
   "display_name": "Python 3",
   "language": "python",
   "name": "python3"
  },
  "language_info": {
   "codemirror_mode": {
    "name": "ipython",
    "version": 3
   },
   "file_extension": ".py",
   "mimetype": "text/x-python",
   "name": "python",
   "nbconvert_exporter": "python",
   "pygments_lexer": "ipython3",
   "version": "3.11.3"
  }
 },
 "nbformat": 4,
 "nbformat_minor": 2
}
